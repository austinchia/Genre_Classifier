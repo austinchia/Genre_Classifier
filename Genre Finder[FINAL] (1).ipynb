{
 "cells": [
  {
   "cell_type": "markdown",
   "metadata": {
    "colab_type": "text",
    "id": "ukXkXmOxRURL"
   },
   "source": [
    "# Genre Extraction from Spotify API\n",
    "\n",
    "### Objective: To access spotify API and extract genres of each artist"
   ]
  },
  {
   "cell_type": "markdown",
   "metadata": {
    "colab_type": "text",
    "id": "ZOq-KxWqsYdv"
   },
   "source": [
    "## 1) Installation of `spotipy` package\n",
    "- Only for first-time installation\n",
    "\n"
   ]
  },
  {
   "cell_type": "code",
   "execution_count": 0,
   "metadata": {
    "colab": {},
    "colab_type": "code",
    "id": "b6jEJD_cTMLS"
   },
   "outputs": [],
   "source": [
    "#pip install spotipy"
   ]
  },
  {
   "cell_type": "markdown",
   "metadata": {
    "colab_type": "text",
    "id": "n4tSG6xCtQaG"
   },
   "source": [
    "## 2)Importing of essential libraries in Python 3\n",
    "Libraries imported: \n",
    "1. `spotipy`, \n",
    "2. `itertools`, \n",
    "3. `pandas`, \n",
    "4. `time`, \n",
    "5. `requests`"
   ]
  },
  {
   "cell_type": "code",
   "execution_count": 0,
   "metadata": {
    "colab": {},
    "colab_type": "code",
    "id": "FHfPJT_2S_8c"
   },
   "outputs": [],
   "source": [
    "#importing packages\n",
    "\n",
    "import spotipy\n",
    "import itertools\n",
    "import pandas as pd\n",
    "from time import sleep\n",
    "import requests\n",
    "\n"
   ]
  },
  {
   "cell_type": "markdown",
   "metadata": {
    "colab_type": "text",
    "id": "MrKePLCFTukv"
   },
   "source": [
    "## 3) Accessing Spotify API\n",
    "- Extract track audio features"
   ]
  },
  {
   "cell_type": "code",
   "execution_count": 0,
   "metadata": {
    "colab": {},
    "colab_type": "code",
    "id": "KwiNIP0ORURQ"
   },
   "outputs": [],
   "source": [
    "# Get access to Spotify API to get track audio features (updated June 5, 2017). \n",
    "# Plug in the client ID and client secret you get from the registering with the Spotify API\n",
    "from spotipy.oauth2 import SpotifyClientCredentials\n",
    "client_credentials_manager = SpotifyClientCredentials(client_id='enter_your_client_id_here',\n",
    "                                                      client_secret='enter_your_client_secret_here')\n",
    "sp = spotipy.Spotify(client_credentials_manager=client_credentials_manager)\n",
    "sp.trace = False"
   ]
  },
  {
   "cell_type": "markdown",
   "metadata": {
    "colab_type": "text",
    "id": "f7EMg55ouBC1"
   },
   "source": [
    "## 4) Removing Confounders\n",
    "- Christmas songs have been known to cause confounding of clusters\n",
    "- A function `RemoveChristmas` was written to remove any songs associated with Christmas"
   ]
  },
  {
   "cell_type": "code",
   "execution_count": 0,
   "metadata": {
    "colab": {},
    "colab_type": "code",
    "id": "qqomKDj3t6ZZ"
   },
   "outputs": [],
   "source": [
    "    #function to remove christmas-related songs\\n\",\n",
    "    def RemoveChristmas(y):\\n\",\n",
    "        y = [x for x in y if not ('christmas' in x)]\\n\",\n",
    "        y = [x for x in y if not ('pop christmas' in x)]\\n\",\n",
    "        y = [x for x in y if not ('soul christmas' in x)]\\n\",\n",
    "        y = [x for x in y if not ('jazz christmas' in x)]\\n\",\n",
    "        y = [x for x in y if not ('classical christmas' in x)]\\n\",\n",
    "        y = [x for x in y if not ('world christmas' in x)]\\n\",\n",
    "        y = [x for x in y if not ('folk christmas' in x)]\\n\",\n",
    "        y = [x for x in y if not ('country christmas' in x)]\\n\",\n",
    "        y = [x for x in y if not ('celtic christmas' in x)]\\n\",\n",
    "        y = [x for x in y if not ('christmas product' in x)]\\n\",\n",
    "        y = [x for x in y if not ('latin christmas' in x)]\\n\",\n",
    "        y = [x for x in y if not (\\\"children's christmas\\\" in x)]\\n\",\n",
    "        y = [x for x in y if not ('christian christmas' in x)]\\n\",\n",
    "        y = [x for x in y if not ('heavy christmas' in x)]\\n\",\n",
    "        y = [x for x in y if not ('indie christmas' in x)]\\n\",\n",
    "        y = [x for x in y if not ('punk christmas' in x)]\\n\",\n",
    "        return y\""
   ]
  },
  {
   "cell_type": "markdown",
   "metadata": {
    "colab_type": "text",
    "id": "RUMbqwgYuMYY"
   },
   "source": [
    "## 5) Genre finder function\n",
    "- searches for genres `find_genres`"
   ]
  },
  {
   "cell_type": "code",
   "execution_count": 0,
   "metadata": {
    "colab": {},
    "colab_type": "code",
    "id": "-p73lID7RURT"
   },
   "outputs": [],
   "source": [
    "#genre finder function\n",
    "def find_genres(x):\n",
    "    if '+' in x:  # remove all the \"+\" characters. this was breaking the search\n",
    "        x = x.replace('+', '')\n",
    "    else:\n",
    "        x = x\n",
    "    result0 = sp.search(q='artist:' + x, type='artist')\n",
    "    \n",
    "    try:\n",
    "        artist_1_genre = result0['artists']['items'][0]['genres']\n",
    "    except IndexError:\n",
    "        artist_1_genre = ['Index Error None']\n",
    "\n",
    "    bwj0 = RemoveChristmas(artist_1_genre)\n",
    "    artist_1_genre = bwj0\n",
    "\n",
    "    if artist_1_genre == []:\n",
    "        artist_1_genre = ['None']\n",
    "    return artist_1_genre"
   ]
  },
  {
   "cell_type": "markdown",
   "metadata": {
    "colab_type": "text",
    "id": "iL1bbW9cNQOE"
   },
   "source": [
    "## 6) Storing audio features data extracted from Spotify API\n",
    "- reading extracted data into a csv file for further analysis\n",
    "- first 5 rows of dataset printed below"
   ]
  },
  {
   "cell_type": "code",
   "execution_count": 0,
   "metadata": {
    "colab": {},
    "colab_type": "code",
    "id": "0UV7rJshRURY",
    "outputId": "d1e1b7c7-8b44-44ee-ea80-94d42015e659"
   },
   "outputs": [
    {
     "data": {
      "text/html": [
       "<div>\n",
       "<style scoped>\n",
       "    .dataframe tbody tr th:only-of-type {\n",
       "        vertical-align: middle;\n",
       "    }\n",
       "\n",
       "    .dataframe tbody tr th {\n",
       "        vertical-align: top;\n",
       "    }\n",
       "\n",
       "    .dataframe thead th {\n",
       "        text-align: right;\n",
       "    }\n",
       "</style>\n",
       "<table border=\"1\" class=\"dataframe\">\n",
       "  <thead>\n",
       "    <tr style=\"text-align: right;\">\n",
       "      <th></th>\n",
       "      <th>track_id</th>\n",
       "      <th>track_name</th>\n",
       "      <th>acousticness</th>\n",
       "      <th>danceability</th>\n",
       "      <th>duration_ms</th>\n",
       "      <th>energy</th>\n",
       "      <th>instrumentalness</th>\n",
       "      <th>key</th>\n",
       "      <th>liveness</th>\n",
       "      <th>loudness</th>\n",
       "      <th>mode</th>\n",
       "      <th>speechiness</th>\n",
       "      <th>tempo</th>\n",
       "      <th>time_signature</th>\n",
       "      <th>valence</th>\n",
       "      <th>popularity</th>\n",
       "    </tr>\n",
       "    <tr>\n",
       "      <th>artist_name</th>\n",
       "      <th></th>\n",
       "      <th></th>\n",
       "      <th></th>\n",
       "      <th></th>\n",
       "      <th></th>\n",
       "      <th></th>\n",
       "      <th></th>\n",
       "      <th></th>\n",
       "      <th></th>\n",
       "      <th></th>\n",
       "      <th></th>\n",
       "      <th></th>\n",
       "      <th></th>\n",
       "      <th></th>\n",
       "      <th></th>\n",
       "      <th></th>\n",
       "    </tr>\n",
       "  </thead>\n",
       "  <tbody>\n",
       "    <tr>\n",
       "      <th>YG</th>\n",
       "      <td>2RM4jf1Xa9zPgMGRDiht8O</td>\n",
       "      <td>Big Bank feat. 2 Chainz, Big Sean, Nicki Minaj</td>\n",
       "      <td>0.005820</td>\n",
       "      <td>0.743</td>\n",
       "      <td>238373</td>\n",
       "      <td>0.339</td>\n",
       "      <td>0.000</td>\n",
       "      <td>1</td>\n",
       "      <td>0.0812</td>\n",
       "      <td>-7.678</td>\n",
       "      <td>1</td>\n",
       "      <td>0.4090</td>\n",
       "      <td>203.927</td>\n",
       "      <td>4</td>\n",
       "      <td>0.118</td>\n",
       "      <td>15</td>\n",
       "    </tr>\n",
       "    <tr>\n",
       "      <th>YG</th>\n",
       "      <td>1tHDG53xJNGsItRA3vfVgs</td>\n",
       "      <td>BAND DRUM (feat. A$AP Rocky)</td>\n",
       "      <td>0.024400</td>\n",
       "      <td>0.846</td>\n",
       "      <td>214800</td>\n",
       "      <td>0.557</td>\n",
       "      <td>0.000</td>\n",
       "      <td>8</td>\n",
       "      <td>0.2860</td>\n",
       "      <td>-7.259</td>\n",
       "      <td>1</td>\n",
       "      <td>0.4570</td>\n",
       "      <td>159.009</td>\n",
       "      <td>4</td>\n",
       "      <td>0.371</td>\n",
       "      <td>0</td>\n",
       "    </tr>\n",
       "    <tr>\n",
       "      <th>R3HAB</th>\n",
       "      <td>6Wosx2euFPMT14UXiWudMy</td>\n",
       "      <td>Radio Silence</td>\n",
       "      <td>0.025000</td>\n",
       "      <td>0.603</td>\n",
       "      <td>138913</td>\n",
       "      <td>0.723</td>\n",
       "      <td>0.000</td>\n",
       "      <td>9</td>\n",
       "      <td>0.0824</td>\n",
       "      <td>-5.890</td>\n",
       "      <td>0</td>\n",
       "      <td>0.0454</td>\n",
       "      <td>114.966</td>\n",
       "      <td>4</td>\n",
       "      <td>0.382</td>\n",
       "      <td>56</td>\n",
       "    </tr>\n",
       "    <tr>\n",
       "      <th>Chris Cooq</th>\n",
       "      <td>3J2Jpw61sO7l6Hc7qdYV91</td>\n",
       "      <td>Lactose</td>\n",
       "      <td>0.029400</td>\n",
       "      <td>0.800</td>\n",
       "      <td>125381</td>\n",
       "      <td>0.579</td>\n",
       "      <td>0.912</td>\n",
       "      <td>5</td>\n",
       "      <td>0.0994</td>\n",
       "      <td>-12.118</td>\n",
       "      <td>0</td>\n",
       "      <td>0.0701</td>\n",
       "      <td>123.003</td>\n",
       "      <td>4</td>\n",
       "      <td>0.641</td>\n",
       "      <td>0</td>\n",
       "    </tr>\n",
       "    <tr>\n",
       "      <th>Chris Cooq</th>\n",
       "      <td>2jbYvQCyPgX3CdmAzeVeuS</td>\n",
       "      <td>Same - Original mix</td>\n",
       "      <td>0.000035</td>\n",
       "      <td>0.783</td>\n",
       "      <td>124016</td>\n",
       "      <td>0.792</td>\n",
       "      <td>0.878</td>\n",
       "      <td>7</td>\n",
       "      <td>0.0332</td>\n",
       "      <td>-10.277</td>\n",
       "      <td>1</td>\n",
       "      <td>0.0661</td>\n",
       "      <td>120.047</td>\n",
       "      <td>4</td>\n",
       "      <td>0.928</td>\n",
       "      <td>0</td>\n",
       "    </tr>\n",
       "  </tbody>\n",
       "</table>\n",
       "</div>"
      ],
      "text/plain": [
       "                           track_id  \\\n",
       "artist_name                           \n",
       "YG           2RM4jf1Xa9zPgMGRDiht8O   \n",
       "YG           1tHDG53xJNGsItRA3vfVgs   \n",
       "R3HAB        6Wosx2euFPMT14UXiWudMy   \n",
       "Chris Cooq   3J2Jpw61sO7l6Hc7qdYV91   \n",
       "Chris Cooq   2jbYvQCyPgX3CdmAzeVeuS   \n",
       "\n",
       "                                                 track_name  acousticness  \\\n",
       "artist_name                                                                 \n",
       "YG           Big Bank feat. 2 Chainz, Big Sean, Nicki Minaj      0.005820   \n",
       "YG                             BAND DRUM (feat. A$AP Rocky)      0.024400   \n",
       "R3HAB                                         Radio Silence      0.025000   \n",
       "Chris Cooq                                          Lactose      0.029400   \n",
       "Chris Cooq                              Same - Original mix      0.000035   \n",
       "\n",
       "             danceability  duration_ms  energy  instrumentalness  key  \\\n",
       "artist_name                                                             \n",
       "YG                  0.743       238373   0.339             0.000    1   \n",
       "YG                  0.846       214800   0.557             0.000    8   \n",
       "R3HAB               0.603       138913   0.723             0.000    9   \n",
       "Chris Cooq          0.800       125381   0.579             0.912    5   \n",
       "Chris Cooq          0.783       124016   0.792             0.878    7   \n",
       "\n",
       "             liveness  loudness  mode  speechiness    tempo  time_signature  \\\n",
       "artist_name                                                                   \n",
       "YG             0.0812    -7.678     1       0.4090  203.927               4   \n",
       "YG             0.2860    -7.259     1       0.4570  159.009               4   \n",
       "R3HAB          0.0824    -5.890     0       0.0454  114.966               4   \n",
       "Chris Cooq     0.0994   -12.118     0       0.0701  123.003               4   \n",
       "Chris Cooq     0.0332   -10.277     1       0.0661  120.047               4   \n",
       "\n",
       "             valence  popularity  \n",
       "artist_name                       \n",
       "YG             0.118          15  \n",
       "YG             0.371           0  \n",
       "R3HAB          0.382          56  \n",
       "Chris Cooq     0.641           0  \n",
       "Chris Cooq     0.928           0  "
      ]
     },
     "execution_count": 55,
     "metadata": {
      "tags": []
     },
     "output_type": "execute_result"
    }
   ],
   "source": [
    "#reading dataset\n",
    "audio_set = pd.read_csv('SpotifyAudioFeaturesApril2019.csv', sep=',', index_col=[0])\n",
    "audio_set.head()"
   ]
  },
  {
   "cell_type": "markdown",
   "metadata": {
    "colab_type": "text",
    "id": "sKNMlnE3N_hg"
   },
   "source": [
    "## 7) Finding genres according to *artist_name* \n",
    "\n",
    "- Initializing an empty list for storage\n",
    "- Iterating through the dataframe using a *for* loop\n",
    "- Loops though *artist_name* column in dataframe and appends corresponding genres based on *artist_name*\n"
   ]
  },
  {
   "cell_type": "code",
   "execution_count": 0,
   "metadata": {
    "colab": {},
    "colab_type": "code",
    "id": "_mhq4GxnRURd",
    "outputId": "b4d43d9a-ed4e-4a2c-b604-db0b1306f774",
    "scrolled": true
   },
   "outputs": [
    {
     "name": "stdout",
     "output_type": "stream",
     "text": [
      "retrying ...1secs\n",
      "retrying ...1secs\n",
      "retrying ...1secs\n",
      "retrying ...1secs\n",
      "retrying ...1secs\n",
      "retrying ...1secs\n",
      "retrying ...1secs\n"
     ]
    }
   ],
   "source": [
    "#execute function for each song in the dataframe\n",
    "new_list = []\n",
    "for artist in comparison_df['artist_name']:\n",
    "    while True:\n",
    "        #the following try/except statements deal with the Connection Error that\n",
    "        #emerges when we try to request too much info from Spotify's endpoint\n",
    "        try:\n",
    "            new_list.append(find_genres(artist))\n",
    "        except:\n",
    "            continue\n",
    "        break"
   ]
  },
  {
   "cell_type": "markdown",
   "metadata": {
    "colab_type": "text",
    "id": "eFv4woHJPUpr"
   },
   "source": [
    "## 8) Combining newly generated list of genre features to main dataframe"
   ]
  },
  {
   "cell_type": "code",
   "execution_count": 0,
   "metadata": {
    "colab": {},
    "colab_type": "code",
    "id": "Vc3AM6seRURg"
   },
   "outputs": [],
   "source": [
    "audio_set['genre'] = new_list"
   ]
  },
  {
   "cell_type": "markdown",
   "metadata": {
    "colab_type": "text",
    "id": "wSLhnw2IY0ix"
   },
   "source": [
    "## 9) Saving the extracted dataset as a csv file"
   ]
  },
  {
   "cell_type": "code",
   "execution_count": 0,
   "metadata": {
    "colab": {},
    "colab_type": "code",
    "id": "a0M9DoiERURi"
   },
   "outputs": [],
   "source": [
    "#saving the dataset\n",
    "audio_set.to_csv('audioset_g.csv',index=True)"
   ]
  }
 ],
 "metadata": {
  "colab": {
   "collapsed_sections": [],
   "name": "Genre Finder[FINAL].ipynb",
   "provenance": [],
   "toc_visible": true
  },
  "kernelspec": {
   "display_name": "Python 3",
   "language": "python",
   "name": "python3"
  },
  "language_info": {
   "codemirror_mode": {
    "name": "ipython",
    "version": 3
   },
   "file_extension": ".py",
   "mimetype": "text/x-python",
   "name": "python",
   "nbconvert_exporter": "python",
   "pygments_lexer": "ipython3",
   "version": "3.7.4"
  }
 },
 "nbformat": 4,
 "nbformat_minor": 1
}
