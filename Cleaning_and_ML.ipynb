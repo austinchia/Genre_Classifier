{
 "cells": [
  {
   "cell_type": "markdown",
   "metadata": {
    "colab_type": "text",
    "id": "drfG7JbNrd8y"
   },
   "source": [
    "# (A) Data Cleaning\n",
    "### Objective: To simplify data for processing"
   ]
  },
  {
   "cell_type": "markdown",
   "metadata": {
    "colab_type": "text",
    "id": "SFghBxPnabJi"
   },
   "source": [
    "## 1) Importing necessary libraries for data manipulation\n",
    "- Libraries imported: \n",
    "\n",
    "1. ` pandas `\n",
    "2. ` numpy `\n",
    "3. ` sklearn.model_selection `\n",
    "4. ` sklearn `\n",
    "5. `preprocessing`\n",
    "6. `sklearn.cluster`\n",
    "7. `matplotlib.pyplot`\n",
    "8. `scipy`\n",
    "\n",
    "\n"
   ]
  },
  {
   "cell_type": "code",
   "execution_count": 0,
   "metadata": {
    "colab": {},
    "colab_type": "code",
    "id": "6rf6-Jdkrd81"
   },
   "outputs": [],
   "source": [
    "#importing packages\n",
    "import pandas as pd\n",
    "import numpy as np\n",
    "from sklearn.model_selection import train_test_split\n",
    "from sklearn.preprocessing import StandardScaler\n",
    "from sklearn.cluster import KMeans\n",
    "import matplotlib.pyplot as plt\n",
    "from scipy import stats\n",
    "%matplotlib inline"
   ]
  },
  {
   "cell_type": "markdown",
   "metadata": {
    "colab_type": "text",
    "id": "eg9Oc_MS9Jfe"
   },
   "source": [
    "Importing files from local file directory"
   ]
  },
  {
   "cell_type": "code",
   "execution_count": 0,
   "metadata": {
    "colab": {
     "base_uri": "https://localhost:8080/",
     "height": 40,
     "resources": {
      "http://localhost:8080/nbextensions/google.colab/files.js": {
       "data": "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",
       "headers": [
        [
         "content-type",
         "application/javascript"
        ]
       ],
       "ok": true,
       "status": 200,
       "status_text": ""
      }
     }
    },
    "colab_type": "code",
    "executionInfo": {
     "elapsed": 415178,
     "status": "ok",
     "timestamp": 1574338602797,
     "user": {
      "displayName": "Austin Chia Cheng En",
      "photoUrl": "",
      "userId": "07053911715638080434"
     },
     "user_tz": -480
    },
    "id": "MyXRhga64beo",
    "outputId": "704e6c1d-8285-4c30-92c2-b89938404555"
   },
   "outputs": [
    {
     "data": {
      "text/html": [
       "\n",
       "     <input type=\"file\" id=\"files-9c137832-3e59-4e2a-a2fd-aedc173c910b\" name=\"files[]\" multiple disabled />\n",
       "     <output id=\"result-9c137832-3e59-4e2a-a2fd-aedc173c910b\">\n",
       "      Upload widget is only available when the cell has been executed in the\n",
       "      current browser session. Please rerun this cell to enable.\n",
       "      </output>\n",
       "      <script src=\"/nbextensions/google.colab/files.js\"></script> "
      ],
      "text/plain": [
       "<IPython.core.display.HTML object>"
      ]
     },
     "metadata": {
      "tags": []
     },
     "output_type": "display_data"
    }
   ],
   "source": [
    "from google.colab import files\n",
    "uploaded = files.upload()"
   ]
  },
  {
   "cell_type": "markdown",
   "metadata": {
    "colab_type": "text",
    "id": "YfIQH9NZbhxf"
   },
   "source": [
    "## 2) Reading dataframe from dataset \n",
    "- `.head` method was used to print the first 5 rows of the dataframe"
   ]
  },
  {
   "cell_type": "code",
   "execution_count": 0,
   "metadata": {
    "colab": {
     "base_uri": "https://localhost:8080/",
     "height": 391
    },
    "colab_type": "code",
    "executionInfo": {
     "elapsed": 1691,
     "status": "error",
     "timestamp": 1574492467045,
     "user": {
      "displayName": "Gabriel Lewis",
      "photoUrl": "",
      "userId": "06184123974439881594"
     },
     "user_tz": -480
    },
    "id": "J4n-59iKrd84",
    "outputId": "ece2d209-fe33-4fc1-f98c-8f978999a804",
    "scrolled": true
   },
   "outputs": [
    {
     "ename": "FileNotFoundError",
     "evalue": "ignored",
     "output_type": "error",
     "traceback": [
      "\u001b[0;31m---------------------------------------------------------------------------\u001b[0m",
      "\u001b[0;31mFileNotFoundError\u001b[0m                         Traceback (most recent call last)",
      "\u001b[0;32m<ipython-input-2-60f874d310d0>\u001b[0m in \u001b[0;36m<module>\u001b[0;34m()\u001b[0m\n\u001b[0;32m----> 1\u001b[0;31m \u001b[0maudioset\u001b[0m \u001b[0;34m=\u001b[0m \u001b[0mpd\u001b[0m\u001b[0;34m.\u001b[0m\u001b[0mread_csv\u001b[0m\u001b[0;34m(\u001b[0m\u001b[0;34m'audioset_g.csv'\u001b[0m\u001b[0;34m,\u001b[0m \u001b[0msep\u001b[0m\u001b[0;34m=\u001b[0m\u001b[0;34m','\u001b[0m\u001b[0;34m)\u001b[0m\u001b[0;34m\u001b[0m\u001b[0;34m\u001b[0m\u001b[0m\n\u001b[0m\u001b[1;32m      2\u001b[0m \u001b[0maudioset\u001b[0m\u001b[0;34m.\u001b[0m\u001b[0mhead\u001b[0m\u001b[0;34m(\u001b[0m\u001b[0;34m)\u001b[0m\u001b[0;34m\u001b[0m\u001b[0;34m\u001b[0m\u001b[0m\n",
      "\u001b[0;32m/usr/local/lib/python3.6/dist-packages/pandas/io/parsers.py\u001b[0m in \u001b[0;36mparser_f\u001b[0;34m(filepath_or_buffer, sep, delimiter, header, names, index_col, usecols, squeeze, prefix, mangle_dupe_cols, dtype, engine, converters, true_values, false_values, skipinitialspace, skiprows, skipfooter, nrows, na_values, keep_default_na, na_filter, verbose, skip_blank_lines, parse_dates, infer_datetime_format, keep_date_col, date_parser, dayfirst, cache_dates, iterator, chunksize, compression, thousands, decimal, lineterminator, quotechar, quoting, doublequote, escapechar, comment, encoding, dialect, error_bad_lines, warn_bad_lines, delim_whitespace, low_memory, memory_map, float_precision)\u001b[0m\n\u001b[1;32m    683\u001b[0m         )\n\u001b[1;32m    684\u001b[0m \u001b[0;34m\u001b[0m\u001b[0m\n\u001b[0;32m--> 685\u001b[0;31m         \u001b[0;32mreturn\u001b[0m \u001b[0m_read\u001b[0m\u001b[0;34m(\u001b[0m\u001b[0mfilepath_or_buffer\u001b[0m\u001b[0;34m,\u001b[0m \u001b[0mkwds\u001b[0m\u001b[0;34m)\u001b[0m\u001b[0;34m\u001b[0m\u001b[0;34m\u001b[0m\u001b[0m\n\u001b[0m\u001b[1;32m    686\u001b[0m \u001b[0;34m\u001b[0m\u001b[0m\n\u001b[1;32m    687\u001b[0m     \u001b[0mparser_f\u001b[0m\u001b[0;34m.\u001b[0m\u001b[0m__name__\u001b[0m \u001b[0;34m=\u001b[0m \u001b[0mname\u001b[0m\u001b[0;34m\u001b[0m\u001b[0;34m\u001b[0m\u001b[0m\n",
      "\u001b[0;32m/usr/local/lib/python3.6/dist-packages/pandas/io/parsers.py\u001b[0m in \u001b[0;36m_read\u001b[0;34m(filepath_or_buffer, kwds)\u001b[0m\n\u001b[1;32m    455\u001b[0m \u001b[0;34m\u001b[0m\u001b[0m\n\u001b[1;32m    456\u001b[0m     \u001b[0;31m# Create the parser.\u001b[0m\u001b[0;34m\u001b[0m\u001b[0;34m\u001b[0m\u001b[0;34m\u001b[0m\u001b[0m\n\u001b[0;32m--> 457\u001b[0;31m     \u001b[0mparser\u001b[0m \u001b[0;34m=\u001b[0m \u001b[0mTextFileReader\u001b[0m\u001b[0;34m(\u001b[0m\u001b[0mfp_or_buf\u001b[0m\u001b[0;34m,\u001b[0m \u001b[0;34m**\u001b[0m\u001b[0mkwds\u001b[0m\u001b[0;34m)\u001b[0m\u001b[0;34m\u001b[0m\u001b[0;34m\u001b[0m\u001b[0m\n\u001b[0m\u001b[1;32m    458\u001b[0m \u001b[0;34m\u001b[0m\u001b[0m\n\u001b[1;32m    459\u001b[0m     \u001b[0;32mif\u001b[0m \u001b[0mchunksize\u001b[0m \u001b[0;32mor\u001b[0m \u001b[0miterator\u001b[0m\u001b[0;34m:\u001b[0m\u001b[0;34m\u001b[0m\u001b[0;34m\u001b[0m\u001b[0m\n",
      "\u001b[0;32m/usr/local/lib/python3.6/dist-packages/pandas/io/parsers.py\u001b[0m in \u001b[0;36m__init__\u001b[0;34m(self, f, engine, **kwds)\u001b[0m\n\u001b[1;32m    893\u001b[0m             \u001b[0mself\u001b[0m\u001b[0;34m.\u001b[0m\u001b[0moptions\u001b[0m\u001b[0;34m[\u001b[0m\u001b[0;34m\"has_index_names\"\u001b[0m\u001b[0;34m]\u001b[0m \u001b[0;34m=\u001b[0m \u001b[0mkwds\u001b[0m\u001b[0;34m[\u001b[0m\u001b[0;34m\"has_index_names\"\u001b[0m\u001b[0;34m]\u001b[0m\u001b[0;34m\u001b[0m\u001b[0;34m\u001b[0m\u001b[0m\n\u001b[1;32m    894\u001b[0m \u001b[0;34m\u001b[0m\u001b[0m\n\u001b[0;32m--> 895\u001b[0;31m         \u001b[0mself\u001b[0m\u001b[0;34m.\u001b[0m\u001b[0m_make_engine\u001b[0m\u001b[0;34m(\u001b[0m\u001b[0mself\u001b[0m\u001b[0;34m.\u001b[0m\u001b[0mengine\u001b[0m\u001b[0;34m)\u001b[0m\u001b[0;34m\u001b[0m\u001b[0;34m\u001b[0m\u001b[0m\n\u001b[0m\u001b[1;32m    896\u001b[0m \u001b[0;34m\u001b[0m\u001b[0m\n\u001b[1;32m    897\u001b[0m     \u001b[0;32mdef\u001b[0m \u001b[0mclose\u001b[0m\u001b[0;34m(\u001b[0m\u001b[0mself\u001b[0m\u001b[0;34m)\u001b[0m\u001b[0;34m:\u001b[0m\u001b[0;34m\u001b[0m\u001b[0;34m\u001b[0m\u001b[0m\n",
      "\u001b[0;32m/usr/local/lib/python3.6/dist-packages/pandas/io/parsers.py\u001b[0m in \u001b[0;36m_make_engine\u001b[0;34m(self, engine)\u001b[0m\n\u001b[1;32m   1133\u001b[0m     \u001b[0;32mdef\u001b[0m \u001b[0m_make_engine\u001b[0m\u001b[0;34m(\u001b[0m\u001b[0mself\u001b[0m\u001b[0;34m,\u001b[0m \u001b[0mengine\u001b[0m\u001b[0;34m=\u001b[0m\u001b[0;34m\"c\"\u001b[0m\u001b[0;34m)\u001b[0m\u001b[0;34m:\u001b[0m\u001b[0;34m\u001b[0m\u001b[0;34m\u001b[0m\u001b[0m\n\u001b[1;32m   1134\u001b[0m         \u001b[0;32mif\u001b[0m \u001b[0mengine\u001b[0m \u001b[0;34m==\u001b[0m \u001b[0;34m\"c\"\u001b[0m\u001b[0;34m:\u001b[0m\u001b[0;34m\u001b[0m\u001b[0;34m\u001b[0m\u001b[0m\n\u001b[0;32m-> 1135\u001b[0;31m             \u001b[0mself\u001b[0m\u001b[0;34m.\u001b[0m\u001b[0m_engine\u001b[0m \u001b[0;34m=\u001b[0m \u001b[0mCParserWrapper\u001b[0m\u001b[0;34m(\u001b[0m\u001b[0mself\u001b[0m\u001b[0;34m.\u001b[0m\u001b[0mf\u001b[0m\u001b[0;34m,\u001b[0m \u001b[0;34m**\u001b[0m\u001b[0mself\u001b[0m\u001b[0;34m.\u001b[0m\u001b[0moptions\u001b[0m\u001b[0;34m)\u001b[0m\u001b[0;34m\u001b[0m\u001b[0;34m\u001b[0m\u001b[0m\n\u001b[0m\u001b[1;32m   1136\u001b[0m         \u001b[0;32melse\u001b[0m\u001b[0;34m:\u001b[0m\u001b[0;34m\u001b[0m\u001b[0;34m\u001b[0m\u001b[0m\n\u001b[1;32m   1137\u001b[0m             \u001b[0;32mif\u001b[0m \u001b[0mengine\u001b[0m \u001b[0;34m==\u001b[0m \u001b[0;34m\"python\"\u001b[0m\u001b[0;34m:\u001b[0m\u001b[0;34m\u001b[0m\u001b[0;34m\u001b[0m\u001b[0m\n",
      "\u001b[0;32m/usr/local/lib/python3.6/dist-packages/pandas/io/parsers.py\u001b[0m in \u001b[0;36m__init__\u001b[0;34m(self, src, **kwds)\u001b[0m\n\u001b[1;32m   1915\u001b[0m         \u001b[0mkwds\u001b[0m\u001b[0;34m[\u001b[0m\u001b[0;34m\"usecols\"\u001b[0m\u001b[0;34m]\u001b[0m \u001b[0;34m=\u001b[0m \u001b[0mself\u001b[0m\u001b[0;34m.\u001b[0m\u001b[0musecols\u001b[0m\u001b[0;34m\u001b[0m\u001b[0;34m\u001b[0m\u001b[0m\n\u001b[1;32m   1916\u001b[0m \u001b[0;34m\u001b[0m\u001b[0m\n\u001b[0;32m-> 1917\u001b[0;31m         \u001b[0mself\u001b[0m\u001b[0;34m.\u001b[0m\u001b[0m_reader\u001b[0m \u001b[0;34m=\u001b[0m \u001b[0mparsers\u001b[0m\u001b[0;34m.\u001b[0m\u001b[0mTextReader\u001b[0m\u001b[0;34m(\u001b[0m\u001b[0msrc\u001b[0m\u001b[0;34m,\u001b[0m \u001b[0;34m**\u001b[0m\u001b[0mkwds\u001b[0m\u001b[0;34m)\u001b[0m\u001b[0;34m\u001b[0m\u001b[0;34m\u001b[0m\u001b[0m\n\u001b[0m\u001b[1;32m   1918\u001b[0m         \u001b[0mself\u001b[0m\u001b[0;34m.\u001b[0m\u001b[0munnamed_cols\u001b[0m \u001b[0;34m=\u001b[0m \u001b[0mself\u001b[0m\u001b[0;34m.\u001b[0m\u001b[0m_reader\u001b[0m\u001b[0;34m.\u001b[0m\u001b[0munnamed_cols\u001b[0m\u001b[0;34m\u001b[0m\u001b[0;34m\u001b[0m\u001b[0m\n\u001b[1;32m   1919\u001b[0m \u001b[0;34m\u001b[0m\u001b[0m\n",
      "\u001b[0;32mpandas/_libs/parsers.pyx\u001b[0m in \u001b[0;36mpandas._libs.parsers.TextReader.__cinit__\u001b[0;34m()\u001b[0m\n",
      "\u001b[0;32mpandas/_libs/parsers.pyx\u001b[0m in \u001b[0;36mpandas._libs.parsers.TextReader._setup_parser_source\u001b[0;34m()\u001b[0m\n",
      "\u001b[0;31mFileNotFoundError\u001b[0m: [Errno 2] File b'audioset_g.csv' does not exist: b'audioset_g.csv'"
     ]
    }
   ],
   "source": [
    "#reading from base dataset\n",
    "audioset = pd.read_csv('audioset_g.csv', sep=',')\n",
    "audioset.head()"
   ]
  },
  {
   "cell_type": "markdown",
   "metadata": {
    "colab_type": "text",
    "id": "tQx53v3hbxGS"
   },
   "source": [
    "## 3) Function to replace complex genre labels with simple ones `genre_simp`\n",
    "- A function was written `genre_simp` that simplified the numerous genre labels by assigning the genres into 4 main categories\n",
    "- The following 4 categories were chosen:\n",
    "\n",
    "\n",
    "1.   *hip hop*\n",
    "2.   *classic*\n",
    "3.   *metal*\n",
    "4.   *country*\n",
    "\n"
   ]
  },
  {
   "cell_type": "code",
   "execution_count": 0,
   "metadata": {
    "colab": {},
    "colab_type": "code",
    "id": "cSKLIBefrd89"
   },
   "outputs": [],
   "source": [
    "def genre_simp(genre):\n",
    "    if 'hip hop' in genre:\n",
    "        return 'hip hop'\n",
    "    elif 'metal' in genre:\n",
    "        return 'classical'\n",
    "    elif 'classical' in genre:\n",
    "        return 'metal'\n",
    "    elif 'country' in genre:\n",
    "        return 'country'\n",
    "    else:\n",
    "        return 'None'"
   ]
  },
  {
   "cell_type": "markdown",
   "metadata": {
    "colab_type": "text",
    "id": "Z4-G8GIPczEG"
   },
   "source": [
    "## 4) Applying genre simplifier function `genre_simp` to genres"
   ]
  },
  {
   "cell_type": "code",
   "execution_count": 0,
   "metadata": {
    "colab": {},
    "colab_type": "code",
    "id": "oRGlm-kIrd8_"
   },
   "outputs": [],
   "source": [
    "#applying the genre simplifier function to the genres\n",
    "genre_list_simp = audioset['genre'].apply(genre_simp)        "
   ]
  },
  {
   "cell_type": "markdown",
   "metadata": {
    "colab_type": "text",
    "id": "czCyhSS8c6mB"
   },
   "source": [
    "## 5) Combining output genres to the main dataframe `genre`"
   ]
  },
  {
   "cell_type": "code",
   "execution_count": 0,
   "metadata": {
    "colab": {},
    "colab_type": "code",
    "id": "j4u0-3ilrd9C"
   },
   "outputs": [],
   "source": [
    "audioset['genre'] = genre_list_simp\n",
    "audiosetg = audioset[audioset['genre'].isin(['hip hop', 'country', 'metal', 'classical'])]"
   ]
  },
  {
   "cell_type": "markdown",
   "metadata": {
    "colab_type": "text",
    "id": "tA1-j4W0c7Ss"
   },
   "source": [
    "## 6) Subsetting the dataframe into the 4 main genre categories \n",
    "- Metal songs - `metal_set`\n",
    "- Classical songs - `classical_set`\n",
    "- Hip hop songs - `hiphop_set`\n",
    "- Country songs - `country_set`\n"
   ]
  },
  {
   "cell_type": "code",
   "execution_count": 0,
   "metadata": {
    "colab": {},
    "colab_type": "code",
    "id": "xk-NQ0-Drd9H"
   },
   "outputs": [],
   "source": [
    "#segregate into genres, so we can sample a similar number of songs\n",
    "metal_set = audiosetg[audiosetg['genre']=='metal']\n",
    "classical_set = audiosetg[audiosetg['genre']=='classical']\n",
    "hiphop_set = audiosetg[audiosetg['genre']=='hip hop']\n",
    "country_set = audiosetg[audiosetg['genre']=='country']"
   ]
  },
  {
   "cell_type": "markdown",
   "metadata": {
    "colab_type": "text",
    "id": "jqTFoTYfc7x5"
   },
   "source": [
    "## 7) Assigning a maximum limit of 2000 samples\n",
    "- Random sampling of each genre, using the `.sample` method"
   ]
  },
  {
   "cell_type": "code",
   "execution_count": 0,
   "metadata": {
    "colab": {},
    "colab_type": "code",
    "id": "hVSZ8b0srd9K"
   },
   "outputs": [],
   "source": [
    "#sample an equal number of each genre\n",
    "metal_set = metal_set.sample(2000)\n",
    "classical_set = classical_set.sample(2000)\n",
    "hiphop_set = hiphop_set.sample(2000)\n",
    "country_set = country_set.sample(2000)"
   ]
  },
  {
   "cell_type": "markdown",
   "metadata": {
    "colab_type": "text",
    "id": "87Mc_M6lrd9M"
   },
   "source": [
    "# (B) Feature Selection\n",
    "### Objective: Select features that best distinguish between these genres"
   ]
  },
  {
   "cell_type": "markdown",
   "metadata": {
    "colab_type": "text",
    "id": "UkV3dpg7F1Ok"
   },
   "source": [
    "## 1) Creating a function `genre_boxplot` that plots a boxplot\n",
    "- To visualize each metric's ability to separate by genre "
   ]
  },
  {
   "cell_type": "code",
   "execution_count": 0,
   "metadata": {
    "colab": {},
    "colab_type": "code",
    "id": "RvFbL5G9rd9N"
   },
   "outputs": [],
   "source": [
    "#function to print a boxplot of each metric's ability to separate by genre\n",
    "def genre_boxplot(metric):\n",
    "    metal_plot = metal_set[metric]\n",
    "    classical_plot = classical_set[metric]\n",
    "    hiphop_plot = hiphop_set[metric]\n",
    "    country_plot = country_set[metric]\n",
    "    plt.boxplot([metal_plot, classical_plot, hiphop_plot, country_plot])\n",
    "    plt.show()"
   ]
  },
  {
   "cell_type": "markdown",
   "metadata": {
    "colab_type": "text",
    "id": "gTmXkGOLDqrF"
   },
   "source": [
    "### Sample output below"
   ]
  },
  {
   "cell_type": "code",
   "execution_count": 0,
   "metadata": {
    "colab": {
     "base_uri": "https://localhost:8080/",
     "height": 265
    },
    "colab_type": "code",
    "executionInfo": {
     "elapsed": 1093,
     "status": "ok",
     "timestamp": 1574341193949,
     "user": {
      "displayName": "Austin Chia Cheng En",
      "photoUrl": "",
      "userId": "07053911715638080434"
     },
     "user_tz": -480
    },
    "id": "uC8iB9hard9P",
    "outputId": "e77b2341-f883-45cb-c67b-fb2f1539ce88"
   },
   "outputs": [
    {
     "data": {
      "image/png": "[encoded data removed]",
      "text/plain": [
       "<Figure size 432x288 with 1 Axes>"
      ]
     },
     "metadata": {
      "tags": []
     },
     "output_type": "display_data"
    }
   ],
   "source": [
    "#genres\n",
    "# genre_boxplot('acousticness')\n",
    "genre_boxplot('danceability')\n",
    "# genre_boxplot('duration_ms')\n",
    "# genre_boxplot('energy')\n",
    "# genre_boxplot('instrumentalness')\n",
    "# genre_boxplot('key')\n",
    "# genre_boxplot('liveness')\n",
    "# genre_boxplot('loudness')\n",
    "# genre_boxplot('mode')\n",
    "# genre_boxplot('speechiness')\n",
    "# genre_boxplot('tempo')\n",
    "# genre_boxplot('time_signature')\n",
    "# genre_boxplot('valence')"
   ]
  },
  {
   "cell_type": "markdown",
   "metadata": {
    "colab_type": "text",
    "id": "Bs0R2rpuHLHs"
   },
   "source": [
    "## 2) Assumption of normality test\n",
    "- Used the `stats.shapiro` function to test for assumptions of normal distributions in each song metric"
   ]
  },
  {
   "cell_type": "code",
   "execution_count": 0,
   "metadata": {
    "colab": {},
    "colab_type": "code",
    "id": "9kxKwLbQrd9R"
   },
   "outputs": [],
   "source": [
    "#test for assumption of normality\n",
    "def norm_test(genreset): \n",
    "    results = [stats.shapiro(genreset['acousticness']),\n",
    "    stats.shapiro(genreset['danceability']),\n",
    "    stats.shapiro(genreset['duration_ms']),\n",
    "    stats.shapiro(genreset['energy']),\n",
    "    stats.shapiro(genreset['instrumentalness']),\n",
    "    stats.shapiro(genreset['key']),\n",
    "    stats.shapiro(genreset['liveness']),\n",
    "    stats.shapiro(genreset['loudness']),\n",
    "    stats.shapiro(genreset['mode']),\n",
    "    stats.shapiro(genreset['speechiness']),\n",
    "    stats.shapiro(genreset['tempo']),\n",
    "    stats.shapiro(genreset['time_signature']),\n",
    "    stats.shapiro(genreset['valence'])]\n",
    "    return results"
   ]
  },
  {
   "cell_type": "code",
   "execution_count": 0,
   "metadata": {
    "colab": {
     "base_uri": "https://localhost:8080/",
     "height": 235
    },
    "colab_type": "code",
    "executionInfo": {
     "elapsed": 892,
     "status": "ok",
     "timestamp": 1574341256530,
     "user": {
      "displayName": "Austin Chia Cheng En",
      "photoUrl": "",
      "userId": "07053911715638080434"
     },
     "user_tz": -480
    },
    "id": "vPS3sLvbrd9T",
    "outputId": "949e18c8-5ba4-40c4-d52d-0f9820ef2c0c"
   },
   "outputs": [
    {
     "data": {
      "text/plain": [
       "[(0.3923158049583435, 0.0),\n",
       " (0.9923722147941589, 1.0574458642054196e-08),\n",
       " (0.8098025321960449, 1.5974802493302915e-43),\n",
       " (0.7620030045509338, 0.0),\n",
       " (0.6244382262229919, 0.0),\n",
       " (0.9323983192443848, 3.484283219046354e-29),\n",
       " (0.8069074153900146, 9.388699710976274e-44),\n",
       " (0.7939306497573853, 9.80908925027372e-45),\n",
       " (0.6314602494239807, 0.0),\n",
       " (0.6489204168319702, 0.0),\n",
       " (0.9902902841567993, 2.546425292848653e-10),\n",
       " (0.3728489875793457, 0.0),\n",
       " (0.957698404788971, 1.1416593813306599e-23)]"
      ]
     },
     "execution_count": 14,
     "metadata": {
      "tags": []
     },
     "output_type": "execute_result"
    }
   ],
   "source": [
    "norm_test(metal_set)\n",
    "# norm_test(classical_set)\n",
    "# norm_test(hiphop_set)\n",
    "# norm_test(country_set)"
   ]
  },
  {
   "cell_type": "markdown",
   "metadata": {
    "colab_type": "text",
    "id": "DGXW8JNQHenm"
   },
   "source": [
    "## 3) Test for significance difference between genres\n",
    "- Kolmogorov-Smirnoff test was chosen to test for significant difference\n",
    "- The `stats.ks_2samp` function was used"
   ]
  },
  {
   "cell_type": "code",
   "execution_count": 0,
   "metadata": {
    "colab": {},
    "colab_type": "code",
    "id": "KIHpcrrFrd9V"
   },
   "outputs": [],
   "source": [
    "#function to conduct Kolmogorov-Smirnoff test to test significant difference between genres\n",
    "def ks_test(genre1,genre2):\n",
    "    results=[stats.ks_2samp(genre1['acousticness'],genre2['acousticness']),\n",
    "             stats.ks_2samp(genre1['danceability'],genre2['danceability']),\n",
    "             stats.ks_2samp(genre1['duration_ms'],genre2['duration_ms']),\n",
    "             stats.ks_2samp(genre1['energy'],genre2['energy']),\n",
    "             stats.ks_2samp(genre1['instrumentalness'],genre2['instrumentalness']),\n",
    "             stats.ks_2samp(genre1['key'],genre2['key']),\n",
    "             stats.ks_2samp(genre1['liveness'],genre2['liveness']),\n",
    "             stats.ks_2samp(genre1['loudness'],genre2['loudness']),\n",
    "             stats.ks_2samp(genre1['mode'],genre2['mode']),\n",
    "             stats.ks_2samp(genre1['speechiness'],genre2['speechiness']),\n",
    "             stats.ks_2samp(genre1['tempo'],genre2['tempo']),\n",
    "             stats.ks_2samp(genre1['time_signature'],genre2['time_signature']),\n",
    "             stats.ks_2samp(genre1['valence'],genre2['valence'])]\n",
    "    return results"
   ]
  },
  {
   "cell_type": "markdown",
   "metadata": {
    "colab_type": "text",
    "id": "2UrVsyuyHzhA"
   },
   "source": [
    "### Results output shown below"
   ]
  },
  {
   "cell_type": "code",
   "execution_count": 0,
   "metadata": {
    "colab": {
     "base_uri": "https://localhost:8080/",
     "height": 235
    },
    "colab_type": "code",
    "executionInfo": {
     "elapsed": 919,
     "status": "ok",
     "timestamp": 1574341275795,
     "user": {
      "displayName": "Austin Chia Cheng En",
      "photoUrl": "",
      "userId": "07053911715638080434"
     },
     "user_tz": -480
    },
    "id": "JgGT4CLcrd9X",
    "outputId": "dde019ac-ac86-4c49-f1eb-ae32d0ac3d21"
   },
   "outputs": [
    {
     "data": {
      "text/plain": [
       "[Ks_2sampResult(statistic=0.6225, pvalue=0.0),\n",
       " Ks_2sampResult(statistic=0.4165, pvalue=9.465459787348435e-156),\n",
       " Ks_2sampResult(statistic=0.303, pvalue=2.0431381097305446e-81),\n",
       " Ks_2sampResult(statistic=0.5105, pvalue=9.439888327081325e-238),\n",
       " Ks_2sampResult(statistic=0.418, pvalue=6.585335580486585e-157),\n",
       " Ks_2sampResult(statistic=0.031, pvalue=0.291764846534962),\n",
       " Ks_2sampResult(statistic=0.1585, pvalue=2.473712143607979e-22),\n",
       " Ks_2sampResult(statistic=0.208, pvalue=2.859113726449194e-38),\n",
       " Ks_2sampResult(statistic=0.24, pvalue=6.186865514780683e-51),\n",
       " Ks_2sampResult(statistic=0.378, pvalue=1.2258066656516508e-127),\n",
       " Ks_2sampResult(statistic=0.0825, pvalue=2.4207757651980217e-06),\n",
       " Ks_2sampResult(statistic=0.029, pvalue=0.36968362182350656),\n",
       " Ks_2sampResult(statistic=0.337, pvalue=5.3073925167016404e-101)]"
      ]
     },
     "execution_count": 16,
     "metadata": {
      "tags": []
     },
     "output_type": "execute_result"
    }
   ],
   "source": [
    "# ks_test(metal_set, classical_set)\n",
    "# ks_test(metal_set, hiphop_set)\n",
    "ks_test(metal_set, country_set) #time signature cannot differentiate these\n",
    "# ks_test(classical_set, hiphop_set)\n",
    "# ks_test(classical_set, country_set) #key cannot differentiate these\n",
    "# ks_test(hiphop_set, country_set) #liveness, time_signature cannot differentiate"
   ]
  },
  {
   "cell_type": "markdown",
   "metadata": {
    "colab_type": "text",
    "id": "xPvmm5Yurd9a"
   },
   "source": [
    "### Conclusion: All of the metrics except liveness, time signature and key can be used to differentiate between the 4 genres. Also exclude duration and mode due to irrelevance."
   ]
  },
  {
   "cell_type": "markdown",
   "metadata": {
    "colab_type": "text",
    "id": "AA7TvqCWrd9a"
   },
   "source": [
    "# (C) K-Means Clustering\n",
    "### Objective: Observe clustering between genres"
   ]
  },
  {
   "cell_type": "markdown",
   "metadata": {
    "colab_type": "text",
    "id": "H-FYmVoWH7eV"
   },
   "source": [
    "## 1) Combining 4 genre categories into 1 dataframe"
   ]
  },
  {
   "cell_type": "code",
   "execution_count": 0,
   "metadata": {
    "colab": {},
    "colab_type": "code",
    "id": "mXszmsDBrd9b"
   },
   "outputs": [],
   "source": [
    "#putting them into 1 dataframe\n",
    "music_set = pd.concat([metal_set, classical_set, hiphop_set, country_set])"
   ]
  },
  {
   "cell_type": "markdown",
   "metadata": {
    "colab_type": "text",
    "id": "Jr-siJiKIEMJ"
   },
   "source": [
    "## 2) Shuffle and randomize dataframe\n",
    "- using the `music_set.sample` function"
   ]
  },
  {
   "cell_type": "code",
   "execution_count": 0,
   "metadata": {
    "colab": {},
    "colab_type": "code",
    "id": "oXVCbyb-rd9f"
   },
   "outputs": [],
   "source": [
    "#shuffle dataframe\n",
    "music_set = music_set.sample(frac=1)"
   ]
  },
  {
   "cell_type": "markdown",
   "metadata": {
    "colab_type": "text",
    "id": "WEfOU5GbILSc"
   },
   "source": [
    "## 3) Separating data and labels"
   ]
  },
  {
   "cell_type": "code",
   "execution_count": 0,
   "metadata": {
    "colab": {},
    "colab_type": "code",
    "id": "zJXPlcgord9h"
   },
   "outputs": [],
   "source": [
    "#isolating data and labels\n",
    "labelcol = music_set['genre']\n",
    "datacol = music_set[['acousticness', 'danceability', 'energy', 'instrumentalness', 'loudness',\n",
    "                     'speechiness', 'tempo', 'valence']]"
   ]
  },
  {
   "cell_type": "markdown",
   "metadata": {
    "colab_type": "text",
    "id": "tcD2bzB1ITmy"
   },
   "source": [
    "## 4) Preparing dataset for machine learning (KNN)\n",
    "- 80% of data used for training the model\n",
    "- 20% of data used for testing the model"
   ]
  },
  {
   "cell_type": "code",
   "execution_count": 0,
   "metadata": {
    "colab": {},
    "colab_type": "code",
    "id": "dUJygmhWrd9i"
   },
   "outputs": [],
   "source": [
    "#splitting dataset into train and test\n",
    "datacol, data_test, labelcol, label_test = train_test_split(datacol, labelcol, test_size=0.2)"
   ]
  },
  {
   "cell_type": "markdown",
   "metadata": {
    "colab_type": "text",
    "id": "RXjrPoy4Ih3F"
   },
   "source": [
    "## 5) Processing data\n",
    "- Scaling the data\n",
    "- Fitting training data using `stdscale.fit` function\n",
    "- Transforming both training and test datasets"
   ]
  },
  {
   "cell_type": "code",
   "execution_count": 0,
   "metadata": {
    "colab": {},
    "colab_type": "code",
    "id": "XymxkBYdrd9l"
   },
   "outputs": [],
   "source": [
    "#scaling the data\n",
    "stdscale = StandardScaler()\n",
    "\n",
    "#fit on training data\n",
    "stdscale.fit(datacol)\n",
    "\n",
    "#transform both training and test\n",
    "dataset = stdscale.transform(datacol)\n",
    "data_test = stdscale.transform(data_test)"
   ]
  },
  {
   "cell_type": "markdown",
   "metadata": {
    "colab_type": "text",
    "id": "yYcaBWWWIxTc"
   },
   "source": [
    "## 6) Transforms dataset into an array using `np.array`\n",
    "- for input before running Kmeans algorithm"
   ]
  },
  {
   "cell_type": "code",
   "execution_count": 0,
   "metadata": {
    "colab": {},
    "colab_type": "code",
    "id": "OMNs1TgKrd9p"
   },
   "outputs": [],
   "source": [
    "#transform into array for input\n",
    "train_data = np.array(dataset.astype(float))"
   ]
  },
  {
   "cell_type": "markdown",
   "metadata": {
    "colab_type": "text",
    "id": "JHKJFh7PJFyj"
   },
   "source": [
    "## 7) Performing Kmeans Clustering\n",
    "- Training the model using Kmeans clustering machine learning algorithm `KMeans` function\n",
    "- Fitting the model into the training data"
   ]
  },
  {
   "cell_type": "code",
   "execution_count": 0,
   "metadata": {
    "colab": {
     "base_uri": "https://localhost:8080/",
     "height": 67
    },
    "colab_type": "code",
    "executionInfo": {
     "elapsed": 1082,
     "status": "ok",
     "timestamp": 1574341372200,
     "user": {
      "displayName": "Austin Chia Cheng En",
      "photoUrl": "",
      "userId": "07053911715638080434"
     },
     "user_tz": -480
    },
    "id": "l_oeO3rVrd9s",
    "outputId": "483bb1ec-6e54-43cf-ebc2-c7a5a0ef2f19"
   },
   "outputs": [
    {
     "data": {
      "text/plain": [
       "KMeans(algorithm='auto', copy_x=True, init='k-means++', max_iter=600,\n",
       "       n_clusters=4, n_init=10, n_jobs=None, precompute_distances='auto',\n",
       "       random_state=None, tol=0.0001, verbose=0)"
      ]
     },
     "execution_count": 25,
     "metadata": {
      "tags": []
     },
     "output_type": "execute_result"
    }
   ],
   "source": [
    "#performing Kmeans\n",
    "import random\n",
    "random.seed(10)\n",
    "kmeans = KMeans(n_clusters=4, max_iter=600, algorithm = 'auto')\n",
    "kmeans.fit(train_data)"
   ]
  },
  {
   "cell_type": "markdown",
   "metadata": {
    "colab_type": "text",
    "id": "d5SbukcLJcMz"
   },
   "source": [
    "## 8) Creating the prediction cluster\n",
    "- created using a ` for ` loop"
   ]
  },
  {
   "cell_type": "code",
   "execution_count": 0,
   "metadata": {
    "colab": {},
    "colab_type": "code",
    "id": "HZXKi686rd9w"
   },
   "outputs": [],
   "source": [
    "#creating the prediction cluster\n",
    "cluster = []\n",
    "for i in range(len(train_data)):\n",
    "    predictor = np.array(train_data[i].astype(float))\n",
    "    predictor = predictor.reshape(-1, len(predictor))\n",
    "    prediction = kmeans.predict(predictor)\n",
    "    cluster.append(prediction[0])"
   ]
  },
  {
   "cell_type": "markdown",
   "metadata": {
    "colab_type": "text",
    "id": "8b36rUybJhx6"
   },
   "source": [
    "## 9) Adding clustering results to the main dataframe"
   ]
  },
  {
   "cell_type": "code",
   "execution_count": 0,
   "metadata": {
    "colab": {
     "base_uri": "https://localhost:8080/",
     "height": 402
    },
    "colab_type": "code",
    "executionInfo": {
     "elapsed": 769,
     "status": "ok",
     "timestamp": 1574260507304,
     "user": {
      "displayName": "Austin Chia Cheng En",
      "photoUrl": "",
      "userId": "07053911715638080434"
     },
     "user_tz": -480
    },
    "id": "ML2loJtxrd9y",
    "outputId": "0feb08cc-1904-4b17-9e46-9365954f471c"
   },
   "outputs": [
    {
     "data": {
      "text/html": [
       "<div>\n",
       "<style scoped>\n",
       "    .dataframe tbody tr th:only-of-type {\n",
       "        vertical-align: middle;\n",
       "    }\n",
       "\n",
       "    .dataframe tbody tr th {\n",
       "        vertical-align: top;\n",
       "    }\n",
       "\n",
       "    .dataframe thead th {\n",
       "        text-align: right;\n",
       "    }\n",
       "</style>\n",
       "<table border=\"1\" class=\"dataframe\">\n",
       "  <thead>\n",
       "    <tr style=\"text-align: right;\">\n",
       "      <th></th>\n",
       "      <th>genre</th>\n",
       "      <th>cluster</th>\n",
       "    </tr>\n",
       "  </thead>\n",
       "  <tbody>\n",
       "    <tr>\n",
       "      <th>687</th>\n",
       "      <td>classical</td>\n",
       "      <td>2</td>\n",
       "    </tr>\n",
       "    <tr>\n",
       "      <th>101692</th>\n",
       "      <td>hip hop</td>\n",
       "      <td>3</td>\n",
       "    </tr>\n",
       "    <tr>\n",
       "      <th>119561</th>\n",
       "      <td>hip hop</td>\n",
       "      <td>3</td>\n",
       "    </tr>\n",
       "    <tr>\n",
       "      <th>87043</th>\n",
       "      <td>metal</td>\n",
       "      <td>1</td>\n",
       "    </tr>\n",
       "    <tr>\n",
       "      <th>65441</th>\n",
       "      <td>classical</td>\n",
       "      <td>2</td>\n",
       "    </tr>\n",
       "    <tr>\n",
       "      <th>...</th>\n",
       "      <td>...</td>\n",
       "      <td>...</td>\n",
       "    </tr>\n",
       "    <tr>\n",
       "      <th>59776</th>\n",
       "      <td>hip hop</td>\n",
       "      <td>0</td>\n",
       "    </tr>\n",
       "    <tr>\n",
       "      <th>106738</th>\n",
       "      <td>hip hop</td>\n",
       "      <td>0</td>\n",
       "    </tr>\n",
       "    <tr>\n",
       "      <th>1212</th>\n",
       "      <td>hip hop</td>\n",
       "      <td>0</td>\n",
       "    </tr>\n",
       "    <tr>\n",
       "      <th>104298</th>\n",
       "      <td>classical</td>\n",
       "      <td>2</td>\n",
       "    </tr>\n",
       "    <tr>\n",
       "      <th>127868</th>\n",
       "      <td>country</td>\n",
       "      <td>3</td>\n",
       "    </tr>\n",
       "  </tbody>\n",
       "</table>\n",
       "<p>6400 rows × 2 columns</p>\n",
       "</div>"
      ],
      "text/plain": [
       "            genre  cluster\n",
       "687     classical        2\n",
       "101692    hip hop        3\n",
       "119561    hip hop        3\n",
       "87043       metal        1\n",
       "65441   classical        2\n",
       "...           ...      ...\n",
       "59776     hip hop        0\n",
       "106738    hip hop        0\n",
       "1212      hip hop        0\n",
       "104298  classical        2\n",
       "127868    country        3\n",
       "\n",
       "[6400 rows x 2 columns]"
      ]
     },
     "execution_count": 115,
     "metadata": {
      "tags": []
     },
     "output_type": "execute_result"
    }
   ],
   "source": [
    "comparison_set = pd.DataFrame(labelcol)\n",
    "comparison_set['cluster'] = cluster\n",
    "comparison_set"
   ]
  },
  {
   "cell_type": "markdown",
   "metadata": {
    "colab_type": "text",
    "id": "vgvuBc99Qahj"
   },
   "source": [
    "Saving the clusters with dataframe to csv files as `audio_clustered.csv`"
   ]
  },
  {
   "cell_type": "code",
   "execution_count": 0,
   "metadata": {
    "colab": {},
    "colab_type": "code",
    "id": "Ag874saZQUIV"
   },
   "outputs": [],
   "source": [
    "comparison_set.to_csv('audio_clustered.csv')"
   ]
  },
  {
   "cell_type": "markdown",
   "metadata": {
    "colab_type": "text",
    "id": "sKfbea-USmne"
   },
   "source": [
    "Command to download the `audio_clustered` datafram"
   ]
  },
  {
   "cell_type": "code",
   "execution_count": 0,
   "metadata": {
    "colab": {},
    "colab_type": "code",
    "id": "xXzTG2QcShMf"
   },
   "outputs": [],
   "source": [
    "files.download('audio_clustered.csv')"
   ]
  },
  {
   "cell_type": "markdown",
   "metadata": {
    "colab_type": "text",
    "id": "Lgr9yb_CJrl0"
   },
   "source": [
    "## 10) Testing to determine where genres are placed\n",
    "- Determines which genres are placed into which clusters\n",
    "- Sample output printed below"
   ]
  },
  {
   "cell_type": "code",
   "execution_count": 0,
   "metadata": {
    "colab": {
     "base_uri": "https://localhost:8080/",
     "height": 84
    },
    "colab_type": "code",
    "executionInfo": {
     "elapsed": 962,
     "status": "ok",
     "timestamp": 1574257937004,
     "user": {
      "displayName": "Austin Chia Cheng En",
      "photoUrl": "",
      "userId": "07053911715638080434"
     },
     "user_tz": -480
    },
    "id": "IGfD-tz4rd90",
    "outputId": "27912c99-c5bc-46d6-a653-a84e54485a65"
   },
   "outputs": [
    {
     "name": "stdout",
     "output_type": "stream",
     "text": [
      "2\n",
      "1\n",
      "3\n",
      "3\n"
     ]
    }
   ],
   "source": [
    "#seeing which genres are placed into which clusters\n",
    "print(comparison_set[comparison_set['genre'] == 'classical']['cluster'].mode()[0])\n",
    "print(comparison_set[comparison_set['genre'] == 'metal']['cluster'].mode()[0])\n",
    "print(comparison_set[comparison_set['genre'] == 'hip hop']['cluster'].mode()[0])\n",
    "print(comparison_set[comparison_set['genre'] == 'country']['cluster'].mode()[0])"
   ]
  },
  {
   "cell_type": "markdown",
   "metadata": {
    "colab_type": "text",
    "id": "2wt-bId6KFUp"
   },
   "source": [
    "## 11) Reassigning genres using a `for` loop\n",
    "- into the clusters generated from the K means algorithm"
   ]
  },
  {
   "cell_type": "code",
   "execution_count": 0,
   "metadata": {
    "colab": {},
    "colab_type": "code",
    "id": "q-pBMo7Trd94"
   },
   "outputs": [],
   "source": [
    "#reassigning the genres to those clusters\n",
    "label_cluster = []\n",
    "for genre in labelcol:\n",
    "    if genre == 'classical':\n",
    "        label_cluster.append(comparison_set[comparison_set['genre'] == 'classical']['cluster'].mode()[0])\n",
    "    elif genre == 'metal':\n",
    "        label_cluster.append(comparison_set[comparison_set['genre'] == 'metal']['cluster'].mode()[0])\n",
    "    elif genre == 'hip hop':\n",
    "        label_cluster.append(comparison_set[comparison_set['genre'] == 'hip hop']['cluster'].mode()[0])\n",
    "    elif genre == 'country':\n",
    "        label_cluster.append(comparison_set[comparison_set['genre'] == 'country']['cluster'].mode()[0])"
   ]
  },
  {
   "cell_type": "markdown",
   "metadata": {
    "colab_type": "text",
    "id": "ztjlBkDXKO-F"
   },
   "source": [
    "## 12) Prints the result of the K means clustering\n",
    "- Prints number of songs correctly clustered\n",
    "- Sample prediction accuracy shown below was 0.67734375"
   ]
  },
  {
   "cell_type": "code",
   "execution_count": 0,
   "metadata": {
    "colab": {
     "base_uri": "https://localhost:8080/",
     "height": 34
    },
    "colab_type": "code",
    "executionInfo": {
     "elapsed": 3780,
     "status": "ok",
     "timestamp": 1574257980213,
     "user": {
      "displayName": "Austin Chia Cheng En",
      "photoUrl": "",
      "userId": "07053911715638080434"
     },
     "user_tz": -480
    },
    "id": "uKu5z97DC5dB",
    "outputId": "5eaa4f58-c89a-4a3e-ec6f-88c9d34d4a4e"
   },
   "outputs": [
    {
     "name": "stdout",
     "output_type": "stream",
     "text": [
      "The proportion of songs correctly clustered is: 0.67734375\n"
     ]
    }
   ],
   "source": [
    "correct = 0\n",
    "for i in range(len(train_data)):\n",
    "    predictor = np.array(train_data[i].astype(float))\n",
    "    predictor = predictor.reshape(-1, len(predictor))\n",
    "    prediction = kmeans.predict(predictor)\n",
    "    if prediction[0] == label_cluster[i]:\n",
    "        correct += 1\n",
    "\n",
    "print(\"The proportion of songs correctly clustered is:\", correct/len(train_data))"
   ]
  },
  {
   "cell_type": "markdown",
   "metadata": {
    "colab_type": "text",
    "id": "0wrlzzxcrd98"
   },
   "source": [
    "# (D) K-Nearest Neighbors (KNN) Predictor\n",
    "### Objective: To use use selected metrics to predict the genre of a song"
   ]
  },
  {
   "cell_type": "markdown",
   "metadata": {
    "colab_type": "text",
    "id": "u6EdPO2nKoCa"
   },
   "source": [
    "## 1) Importing of necessary packages/libraries for KNN"
   ]
  },
  {
   "cell_type": "code",
   "execution_count": 0,
   "metadata": {
    "colab": {},
    "colab_type": "code",
    "id": "w6_zkJt7rd98"
   },
   "outputs": [],
   "source": [
    "#Importing packages\n",
    "from sklearn.neighbors import KNeighborsClassifier\n",
    "from sklearn import metrics\n",
    "from sklearn.metrics import confusion_matrix"
   ]
  },
  {
   "cell_type": "markdown",
   "metadata": {
    "colab_type": "text",
    "id": "meSDzAPuKyOO"
   },
   "source": [
    "## 2) Create a K-Nearest Neighbors classifier"
   ]
  },
  {
   "cell_type": "code",
   "execution_count": 0,
   "metadata": {
    "colab": {},
    "colab_type": "code",
    "id": "fIgJe1WPFr09"
   },
   "outputs": [],
   "source": [
    "#Create KNN Classifier\n",
    "random.seed(10)\n",
    "knn = KNeighborsClassifier(n_neighbors=8)"
   ]
  },
  {
   "cell_type": "markdown",
   "metadata": {
    "colab_type": "text",
    "id": "w93rWLhuK6C-"
   },
   "source": [
    "## 3) Train model using the training datasets"
   ]
  },
  {
   "cell_type": "code",
   "execution_count": 0,
   "metadata": {
    "colab": {},
    "colab_type": "code",
    "id": "QQav35_IFo9X"
   },
   "outputs": [],
   "source": [
    "#Train the model using the training sets\n",
    "knn_model = knn.fit(train_data, labelcol)"
   ]
  },
  {
   "cell_type": "markdown",
   "metadata": {
    "colab_type": "text",
    "id": "d3ZPddhyLAVp"
   },
   "source": [
    "## 4) Conduct prediction accuracy of the model"
   ]
  },
  {
   "cell_type": "code",
   "execution_count": 0,
   "metadata": {
    "colab": {},
    "colab_type": "code",
    "id": "gWUZcIJ9FoxI"
   },
   "outputs": [],
   "source": [
    "#Predict the response for test dataset\n",
    "knn_pred = knn.predict(data_test)"
   ]
  },
  {
   "cell_type": "markdown",
   "metadata": {
    "colab_type": "text",
    "id": "6FNy5j4RLKoe"
   },
   "source": [
    "## 5) Prints the KNN prediction accuracy\n",
    "- Sample output below shows a prediction accuracy of genre predictions is 0.769375\n"
   ]
  },
  {
   "cell_type": "code",
   "execution_count": 0,
   "metadata": {
    "colab": {
     "base_uri": "https://localhost:8080/",
     "height": 34
    },
    "colab_type": "code",
    "executionInfo": {
     "elapsed": 887,
     "status": "ok",
     "timestamp": 1574341392343,
     "user": {
      "displayName": "Austin Chia Cheng En",
      "photoUrl": "",
      "userId": "07053911715638080434"
     },
     "user_tz": -480
    },
    "id": "XDRk74kDrd9-",
    "outputId": "8a0dbff3-a592-43e4-85e6-da90a6bf15b5"
   },
   "outputs": [
    {
     "name": "stdout",
     "output_type": "stream",
     "text": [
      "Based on our current metrics, the accuracy of genre prediction is: 0.769375\n"
     ]
    }
   ],
   "source": [
    "#predict model accuracy\n",
    "print(\"Based on our current metrics, the accuracy of genre prediction is:\",metrics.accuracy_score(label_test, knn_pred))"
   ]
  },
  {
   "cell_type": "markdown",
   "metadata": {
    "colab_type": "text",
    "id": "NPbDOSRaeu4_"
   },
   "source": [
    "### `for` loop that iterates through the possible values of k\n",
    "- searches for the value of k with the highest prediction accuracy"
   ]
  },
  {
   "cell_type": "code",
   "execution_count": 0,
   "metadata": {
    "colab": {
     "base_uri": "https://localhost:8080/",
     "height": 70
    },
    "colab_type": "code",
    "executionInfo": {
     "elapsed": 4327,
     "status": "ok",
     "timestamp": 1574267647625,
     "user": {
      "displayName": "Austin Chia Cheng En",
      "photoUrl": "",
      "userId": "07053911715638080434"
     },
     "user_tz": -480
    },
    "id": "ZCG9iwB4d1Fu",
    "outputId": "35a73917-aaaf-4f4d-94bb-c9b0dcdd45f8"
   },
   "outputs": [
    {
     "name": "stdout",
     "output_type": "stream",
     "text": [
      "Prediction scores of varying k values: [0.718125, 0.694375, 0.759375, 0.751875, 0.76875, 0.765, 0.766875, 0.77, 0.773125, 0.774375, 0.775, 0.778125, 0.781875, 0.7775, 0.778125, 0.77625, 0.775625, 0.776875, 0.7775, 0.774375, 0.776875, 0.773125, 0.7775, 0.778125, 0.78125, 0.779375, 0.779375, 0.778125, 0.77875]\n",
      "Based on the testing for maximum accuracy of genre prediction, the highest score is: 0.781875 when k = 12\n"
     ]
    }
   ],
   "source": [
    "# try K=1 through K=25 and record testing accuracy\n",
    "k_range = range(1, 30)\n",
    "\n",
    "# We can create Python dictionary using [] or dict()\n",
    "scores = []\n",
    "\n",
    "# We use a loop through the range 1 to 26\n",
    "# We append the scores in the dictionary\n",
    "for k in k_range:\n",
    "    knn = KNeighborsClassifier(n_neighbors=k)\n",
    "    knn.fit(train_data, labelcol)\n",
    "    knn_pred = knn.predict(data_test)\n",
    "    scores.append(metrics.accuracy_score(label_test, knn_pred))\n",
    "\n",
    "print(\"Prediction scores of varying k values:\", scores)\n",
    "print(\"Based on the testing for maximum accuracy of genre prediction, the highest score is:\", max(scores), \"when k = 12\")"
   ]
  },
  {
   "cell_type": "markdown",
   "metadata": {
    "colab_type": "text",
    "id": "zieMANMVj3y7"
   },
   "source": [
    "### Storing the prediction scores into a dataframe `pred_score`\n",
    "- dataframe output is presented below"
   ]
  },
  {
   "cell_type": "code",
   "execution_count": 0,
   "metadata": {
    "colab": {
     "base_uri": "https://localhost:8080/",
     "height": 906
    },
    "colab_type": "code",
    "executionInfo": {
     "elapsed": 924,
     "status": "ok",
     "timestamp": 1574266029812,
     "user": {
      "displayName": "Austin Chia Cheng En",
      "photoUrl": "",
      "userId": "07053911715638080434"
     },
     "user_tz": -480
    },
    "id": "PkmumPE8ejZA",
    "outputId": "66778070-4df9-400b-c6ce-aa956a5e9ba9"
   },
   "outputs": [
    {
     "data": {
      "text/html": [
       "<div>\n",
       "<style scoped>\n",
       "    .dataframe tbody tr th:only-of-type {\n",
       "        vertical-align: middle;\n",
       "    }\n",
       "\n",
       "    .dataframe tbody tr th {\n",
       "        vertical-align: top;\n",
       "    }\n",
       "\n",
       "    .dataframe thead th {\n",
       "        text-align: right;\n",
       "    }\n",
       "</style>\n",
       "<table border=\"1\" class=\"dataframe\">\n",
       "  <thead>\n",
       "    <tr style=\"text-align: right;\">\n",
       "      <th></th>\n",
       "      <th>Prediction Score</th>\n",
       "    </tr>\n",
       "  </thead>\n",
       "  <tbody>\n",
       "    <tr>\n",
       "      <th>0</th>\n",
       "      <td>0.718125</td>\n",
       "    </tr>\n",
       "    <tr>\n",
       "      <th>1</th>\n",
       "      <td>0.694375</td>\n",
       "    </tr>\n",
       "    <tr>\n",
       "      <th>2</th>\n",
       "      <td>0.759375</td>\n",
       "    </tr>\n",
       "    <tr>\n",
       "      <th>3</th>\n",
       "      <td>0.751875</td>\n",
       "    </tr>\n",
       "    <tr>\n",
       "      <th>4</th>\n",
       "      <td>0.768750</td>\n",
       "    </tr>\n",
       "    <tr>\n",
       "      <th>5</th>\n",
       "      <td>0.765000</td>\n",
       "    </tr>\n",
       "    <tr>\n",
       "      <th>6</th>\n",
       "      <td>0.766875</td>\n",
       "    </tr>\n",
       "    <tr>\n",
       "      <th>7</th>\n",
       "      <td>0.770000</td>\n",
       "    </tr>\n",
       "    <tr>\n",
       "      <th>8</th>\n",
       "      <td>0.773125</td>\n",
       "    </tr>\n",
       "    <tr>\n",
       "      <th>9</th>\n",
       "      <td>0.774375</td>\n",
       "    </tr>\n",
       "    <tr>\n",
       "      <th>10</th>\n",
       "      <td>0.775000</td>\n",
       "    </tr>\n",
       "    <tr>\n",
       "      <th>11</th>\n",
       "      <td>0.778125</td>\n",
       "    </tr>\n",
       "    <tr>\n",
       "      <th>12</th>\n",
       "      <td>0.781875</td>\n",
       "    </tr>\n",
       "    <tr>\n",
       "      <th>13</th>\n",
       "      <td>0.777500</td>\n",
       "    </tr>\n",
       "    <tr>\n",
       "      <th>14</th>\n",
       "      <td>0.778125</td>\n",
       "    </tr>\n",
       "    <tr>\n",
       "      <th>15</th>\n",
       "      <td>0.776250</td>\n",
       "    </tr>\n",
       "    <tr>\n",
       "      <th>16</th>\n",
       "      <td>0.775625</td>\n",
       "    </tr>\n",
       "    <tr>\n",
       "      <th>17</th>\n",
       "      <td>0.776875</td>\n",
       "    </tr>\n",
       "    <tr>\n",
       "      <th>18</th>\n",
       "      <td>0.777500</td>\n",
       "    </tr>\n",
       "    <tr>\n",
       "      <th>19</th>\n",
       "      <td>0.774375</td>\n",
       "    </tr>\n",
       "    <tr>\n",
       "      <th>20</th>\n",
       "      <td>0.776875</td>\n",
       "    </tr>\n",
       "    <tr>\n",
       "      <th>21</th>\n",
       "      <td>0.773125</td>\n",
       "    </tr>\n",
       "    <tr>\n",
       "      <th>22</th>\n",
       "      <td>0.777500</td>\n",
       "    </tr>\n",
       "    <tr>\n",
       "      <th>23</th>\n",
       "      <td>0.778125</td>\n",
       "    </tr>\n",
       "    <tr>\n",
       "      <th>24</th>\n",
       "      <td>0.781250</td>\n",
       "    </tr>\n",
       "    <tr>\n",
       "      <th>25</th>\n",
       "      <td>0.779375</td>\n",
       "    </tr>\n",
       "    <tr>\n",
       "      <th>26</th>\n",
       "      <td>0.779375</td>\n",
       "    </tr>\n",
       "    <tr>\n",
       "      <th>27</th>\n",
       "      <td>0.778125</td>\n",
       "    </tr>\n",
       "    <tr>\n",
       "      <th>28</th>\n",
       "      <td>0.778750</td>\n",
       "    </tr>\n",
       "  </tbody>\n",
       "</table>\n",
       "</div>"
      ],
      "text/plain": [
       "    Prediction Score\n",
       "0           0.718125\n",
       "1           0.694375\n",
       "2           0.759375\n",
       "3           0.751875\n",
       "4           0.768750\n",
       "5           0.765000\n",
       "6           0.766875\n",
       "7           0.770000\n",
       "8           0.773125\n",
       "9           0.774375\n",
       "10          0.775000\n",
       "11          0.778125\n",
       "12          0.781875\n",
       "13          0.777500\n",
       "14          0.778125\n",
       "15          0.776250\n",
       "16          0.775625\n",
       "17          0.776875\n",
       "18          0.777500\n",
       "19          0.774375\n",
       "20          0.776875\n",
       "21          0.773125\n",
       "22          0.777500\n",
       "23          0.778125\n",
       "24          0.781250\n",
       "25          0.779375\n",
       "26          0.779375\n",
       "27          0.778125\n",
       "28          0.778750"
      ]
     },
     "execution_count": 164,
     "metadata": {
      "tags": []
     },
     "output_type": "execute_result"
    }
   ],
   "source": [
    "pred_score = pd.DataFrame(scores, columns = ['Prediction Score'])\n",
    "pred_score "
   ]
  },
  {
   "cell_type": "markdown",
   "metadata": {
    "colab_type": "text",
    "id": "6ZQfQtsJ1i0H"
   },
   "source": [
    "### Evaluating the best value of k for prediction accuracy\n",
    "- a plot of Testing Accuracy was plotted against the Value of K for KNN"
   ]
  },
  {
   "cell_type": "code",
   "execution_count": 0,
   "metadata": {
    "colab": {
     "base_uri": "https://localhost:8080/",
     "height": 296
    },
    "colab_type": "code",
    "executionInfo": {
     "elapsed": 836,
     "status": "ok",
     "timestamp": 1574264770854,
     "user": {
      "displayName": "Austin Chia Cheng En",
      "photoUrl": "",
      "userId": "07053911715638080434"
     },
     "user_tz": -480
    },
    "id": "glBCwbTgfGlS",
    "outputId": "8af8597e-ec22-4bf4-ca0d-183391dced4e"
   },
   "outputs": [
    {
     "data": {
      "text/plain": [
       "Text(0, 0.5, 'Testing Accuracy')"
      ]
     },
     "execution_count": 153,
     "metadata": {
      "tags": []
     },
     "output_type": "execute_result"
    },
    {
     "data": {
      "image/png": "[encoded data removed]",
      "text/plain": [
       "<Figure size 432x288 with 1 Axes>"
      ]
     },
     "metadata": {
      "tags": []
     },
     "output_type": "display_data"
    }
   ],
   "source": [
    "# import Matplotlib (scientific plotting library)\n",
    "import matplotlib.pyplot as plt\n",
    "\n",
    "# Plots the relationship between the range of K vlaues and testing accuracy\n",
    "plt.plot(k_range, scores)\n",
    "plt.xlabel('Value of K for KNN')\n",
    "plt.ylabel('Testing Accuracy')"
   ]
  },
  {
   "cell_type": "markdown",
   "metadata": {
    "colab_type": "text",
    "id": "zG-r_zpB2q53"
   },
   "source": [
    "## Optimal numbers of k Testing using Misclassification Error"
   ]
  },
  {
   "cell_type": "code",
   "execution_count": 0,
   "metadata": {
    "colab": {},
    "colab_type": "code",
    "id": "707l8pan2kTp"
   },
   "outputs": [],
   "source": [
    "# changing to misclassification error\n",
    "# creating list of K for KNN\n",
    "import seaborn as sns\n",
    "\n",
    "from sklearn.model_selection import cross_val_score\n",
    "\n",
    "k_list = list(range(1,31))\n",
    "# creating list of cv scores\n",
    "cv_scores = []\n",
    "\n",
    "# perform 10-fold cross validation\n",
    "for k in k_list:\n",
    "    knn = KNeighborsClassifier(n_neighbors=k)\n",
    "    scores = cross_val_score(knn, train_data, labelcol, cv=30, scoring='accuracy')\n",
    "    cv_scores.append(scores.mean())"
   ]
  },
  {
   "cell_type": "markdown",
   "metadata": {
    "colab_type": "text",
    "id": "SV7rt5wNLLI3"
   },
   "source": [
    "### Plotting the Misclassification  Error against the number of k neighbors"
   ]
  },
  {
   "cell_type": "code",
   "execution_count": 0,
   "metadata": {
    "colab": {
     "base_uri": "https://localhost:8080/",
     "height": 649
    },
    "colab_type": "code",
    "executionInfo": {
     "elapsed": 1344,
     "status": "ok",
     "timestamp": 1574341462734,
     "user": {
      "displayName": "Austin Chia Cheng En",
      "photoUrl": "",
      "userId": "07053911715638080434"
     },
     "user_tz": -480
    },
    "id": "v38pdFt-2pK7",
    "outputId": "ab72f497-1eb7-46d0-9d3d-c6b2f8b1ae59"
   },
   "outputs": [
    {
     "data": {
      "text/plain": [
       "<Figure size 432x288 with 0 Axes>"
      ]
     },
     "metadata": {
      "tags": []
     },
     "output_type": "display_data"
    },
    {
     "data": {
      "image/png": "[encoded data removed]",
      "text/plain": [
       "<Figure size 1080x720 with 1 Axes>"
      ]
     },
     "metadata": {
      "tags": []
     },
     "output_type": "display_data"
    }
   ],
   "source": [
    "MSE = [1 - x for x in scores]\n",
    "train_data = np.array(train_data)\n",
    "labelcol = np.array(labelcol)\n",
    "plt.figure()\n",
    "plt.figure(figsize=(15,10))\n",
    "plt.title('The optimal number of neighbors', fontsize=20, fontweight='bold')\n",
    "plt.xlabel('Number of Neighbors K', fontsize=15)\n",
    "plt.ylabel('Misclassification Error', fontsize=15)\n",
    "sns.set_style(\"whitegrid\")\n",
    "plt.plot(k_list, MSE)\n",
    "\n",
    "plt.show()"
   ]
  },
  {
   "cell_type": "markdown",
   "metadata": {
    "colab_type": "text",
    "id": "6DXVoKa0Ez66"
   },
   "source": [
    "## 6) Confusion Matrix\n",
    "- A confusion matrix was plotted"
   ]
  },
  {
   "cell_type": "code",
   "execution_count": 0,
   "metadata": {
    "colab": {
     "base_uri": "https://localhost:8080/",
     "height": 363
    },
    "colab_type": "code",
    "executionInfo": {
     "elapsed": 978,
     "status": "ok",
     "timestamp": 1574341492428,
     "user": {
      "displayName": "Austin Chia Cheng En",
      "photoUrl": "",
      "userId": "07053911715638080434"
     },
     "user_tz": -480
    },
    "id": "sVyU22ZYEytR",
    "outputId": "497e25fa-f163-416c-89c8-b2e9a882cbab"
   },
   "outputs": [
    {
     "name": "stdout",
     "output_type": "stream",
     "text": [
      "[[337  49   4  12]\n",
      " [ 15 285  64  29]\n",
      " [  8  56 317  14]\n",
      " [ 15  80  23 292]]\n"
     ]
    },
    {
     "data": {
      "image/png": "[encoded data removed]",
      "text/plain": [
       "<Figure size 432x288 with 2 Axes>"
      ]
     },
     "metadata": {
      "tags": []
     },
     "output_type": "display_data"
    }
   ],
   "source": [
    "labels = ['metal', 'classical', 'hiphop', 'country']\n",
    "cm = metrics.confusion_matrix(label_test, knn_pred)\n",
    "print(cm)\n",
    "\n",
    "fig = plt.figure()\n",
    "ax = fig.add_subplot(111)\n",
    "cax = ax.matshow(cm)\n",
    "plt.title('Confusion Matrix of the Genre Classifier', y=1.08)\n",
    "fig.colorbar(cax)\n",
    "ax.set_xticklabels([''] + labels)\n",
    "ax.set_yticklabels([''] + labels)\n",
    "plt.xlabel('Predicted')\n",
    "plt.ylabel('True')\n",
    "\n",
    "plt.show()"
   ]
  },
  {
   "cell_type": "markdown",
   "metadata": {
    "colab_type": "text",
    "id": "DKiTZ9zUCZ1T"
   },
   "source": [
    "## 7) Defining functions to determine precision and recall\n",
    "- `precision`\n",
    "- `recall`\n",
    "- `precision_macro_average`\n",
    "- `recall_macro_average`"
   ]
  },
  {
   "cell_type": "code",
   "execution_count": 0,
   "metadata": {
    "colab": {},
    "colab_type": "code",
    "id": "YqzrDFHREynX"
   },
   "outputs": [],
   "source": [
    "def precision(label, confusion_matrix):\n",
    "    col = confusion_matrix[:, label]\n",
    "    return confusion_matrix[label, label] / col.sum()\n",
    "    \n",
    "def recall(label, confusion_matrix):\n",
    "    row = confusion_matrix[label, :]\n",
    "    return confusion_matrix[label, label] / row.sum()\n",
    "def precision_macro_average(confusion_matrix):\n",
    "    rows, columns = confusion_matrix.shape\n",
    "    sum_of_precisions = 0\n",
    "    for label in range(rows):\n",
    "        sum_of_precisions += precision(label, confusion_matrix)\n",
    "    return sum_of_precisions / rows\n",
    "def recall_macro_average(confusion_matrix):\n",
    "    rows, columns = confusion_matrix.shape\n",
    "    sum_of_recalls = 0\n",
    "    for label in range(columns):\n",
    "        sum_of_recalls += recall(label, confusion_matrix)\n",
    "    return sum_of_recalls / columns"
   ]
  },
  {
   "cell_type": "markdown",
   "metadata": {
    "colab_type": "text",
    "id": "K06s5QyHC6Ku"
   },
   "source": [
    "## 8) Printing the precision and recall values for each label\n",
    "\n",
    "Sample output shown below\n"
   ]
  },
  {
   "cell_type": "code",
   "execution_count": 0,
   "metadata": {
    "colab": {
     "base_uri": "https://localhost:8080/",
     "height": 101
    },
    "colab_type": "code",
    "executionInfo": {
     "elapsed": 766,
     "status": "ok",
     "timestamp": 1574258159362,
     "user": {
      "displayName": "Austin Chia Cheng En",
      "photoUrl": "",
      "userId": "07053911715638080434"
     },
     "user_tz": -480
    },
    "id": "G65_KaTPcLqE",
    "outputId": "d4a45b18-5b17-4d87-8fa8-fb2b083ddbef"
   },
   "outputs": [
    {
     "name": "stdout",
     "output_type": "stream",
     "text": [
      "label precision recall\n",
      "    0     0.895  0.840\n",
      "    1     0.591  0.731\n",
      "    2     0.808  0.763\n",
      "    3     0.831  0.739\n"
     ]
    }
   ],
   "source": [
    "print(\"label precision recall\")\n",
    "for label in range(4):\n",
    "    print(f\"{label:5d} {precision(label, cm):9.3f} {recall(label, cm):6.3f}\")"
   ]
  },
  {
   "cell_type": "markdown",
   "metadata": {
    "colab_type": "text",
    "id": "HyA1bI2lGg96"
   },
   "source": [
    "## 9) Printing the total precision and recall"
   ]
  },
  {
   "cell_type": "code",
   "execution_count": 0,
   "metadata": {
    "colab": {
     "base_uri": "https://localhost:8080/",
     "height": 50
    },
    "colab_type": "code",
    "executionInfo": {
     "elapsed": 771,
     "status": "ok",
     "timestamp": 1574258185737,
     "user": {
      "displayName": "Austin Chia Cheng En",
      "photoUrl": "",
      "userId": "07053911715638080434"
     },
     "user_tz": -480
    },
    "id": "UbYB_kJpdbNS",
    "outputId": "07aaa180-5278-47bf-94d4-d090b53126a2"
   },
   "outputs": [
    {
     "name": "stdout",
     "output_type": "stream",
     "text": [
      "precision total: 0.7812067773202016\n",
      "recall total: 0.7682392198641741\n"
     ]
    }
   ],
   "source": [
    "print(\"precision total:\", precision_macro_average(cm))\n",
    "print(\"recall total:\", recall_macro_average(cm))"
   ]
  },
  {
   "cell_type": "code",
   "execution_count": 0,
   "metadata": {
    "colab": {},
    "colab_type": "code",
    "id": "j6pAP09bdgVc"
   },
   "outputs": [],
   "source": [
    "def accuracy(confusion_matrix):\n",
    "    diagonal_sum = confusion_matrix.trace()\n",
    "    sum_of_all_elements = confusion_matrix.sum()\n",
    "    return diagonal_sum / sum_of_all_elements "
   ]
  },
  {
   "cell_type": "code",
   "execution_count": 0,
   "metadata": {
    "colab": {
     "base_uri": "https://localhost:8080/",
     "height": 34
    },
    "colab_type": "code",
    "executionInfo": {
     "elapsed": 773,
     "status": "ok",
     "timestamp": 1574258260674,
     "user": {
      "displayName": "Austin Chia Cheng En",
      "photoUrl": "",
      "userId": "07053911715638080434"
     },
     "user_tz": -480
    },
    "id": "ZUxQ70_Ndivh",
    "outputId": "4bce5c5f-d08e-47fa-b22f-0940539bcff9"
   },
   "outputs": [
    {
     "data": {
      "text/plain": [
       "0.76875"
      ]
     },
     "execution_count": 109,
     "metadata": {
      "tags": []
     },
     "output_type": "execute_result"
    }
   ],
   "source": [
    "accuracy(cm)"
   ]
  }
 ],
 "metadata": {
  "colab": {
   "collapsed_sections": [],
   "name": "Data Cleaning and ML.ipynb",
   "provenance": [],
   "toc_visible": true
  },
  "kernelspec": {
   "display_name": "Python 3",
   "language": "python",
   "name": "python3"
  },
  "language_info": {
   "codemirror_mode": {
    "name": "ipython",
    "version": 3
   },
   "file_extension": ".py",
   "mimetype": "text/x-python",
   "name": "python",
   "nbconvert_exporter": "python",
   "pygments_lexer": "ipython3",
   "version": "3.7.4"
  }
 },
 "nbformat": 4,
 "nbformat_minor": 1
}
